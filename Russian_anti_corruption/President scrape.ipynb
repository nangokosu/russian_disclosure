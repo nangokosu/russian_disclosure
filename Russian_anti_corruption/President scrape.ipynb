{
 "cells": [
  {
   "cell_type": "code",
   "execution_count": 1,
   "metadata": {},
   "outputs": [],
   "source": [
    "import requests\n",
    "import lxml.html"
   ]
  },
  {
   "cell_type": "code",
   "execution_count": 2,
   "metadata": {},
   "outputs": [],
   "source": [
    "url=\"https://declarator.org/office/449\"\n",
    "root=\"https://declarator.org\""
   ]
  },
  {
   "cell_type": "code",
   "execution_count": 3,
   "metadata": {},
   "outputs": [],
   "source": [
    "# This requires the installation of Splash\n",
    "r=requests.get(\"http://localhost:8050/render.html\",params={\"url\":url})"
   ]
  },
  {
   "cell_type": "code",
   "execution_count": 4,
   "metadata": {},
   "outputs": [],
   "source": [
    "html=lxml.html.fromstring(r.content)"
   ]
  },
  {
   "cell_type": "code",
   "execution_count": 5,
   "metadata": {},
   "outputs": [],
   "source": [
    "first_scrape=[]\n",
    "for element in html.xpath('//tr'):\n",
    "    year=int(element.xpath('./td[position()=1]/text()')[0])\n",
    "    for element_2 in element.xpath('./td[position()=2]//ul[@class=\"list-inline activetext\"]/li/a'):\n",
    "        if element_2.xpath('./text()')[0].strip()==\"Anti-corruption declaration\":\n",
    "            anti_corrupt_url=root+element_2.xpath(\"./@href\")[0]\n",
    "            # Get details\n",
    "            r2=requests.get(\"http://localhost:8050/render.html\",params={'url':anti_corrupt_url})\n",
    "            html2=lxml.html.fromstring(r2.content)\n",
    "            element_final=html2.xpath('//td[@colspan=\"3\" or @colspan=\"4\"]')[-1]\n",
    "            text=element_final.xpath(\".//p//text()\")\n",
    "            # Get official name\n",
    "            element_person=html2.xpath('//td[@class=\"person\"]')[-1]\n",
    "            name=element_person.xpath('./div[1]//text()')\n",
    "            title=element_person.xpath('.//div[2]//text()')\n",
    "            new_url=element_person.xpath('./div[@class=\"person_name activetext\"]/a/@href')\n",
    "            new_url=root+new_url[0]\n",
    "            first_scrape.append((year,text,name,title,new_url))"
   ]
  },
  {
   "cell_type": "code",
   "execution_count": 6,
   "metadata": {},
   "outputs": [],
   "source": [
    "import re\n",
    "\n",
    "def clean_text(list_of_words):\n",
    "    clean_list=[re.sub(r\"\\n\",\"\",word).strip() for word in list_of_words]\n",
    "    clean_list=[re.sub(r\" m\",\" sqm\",word).strip() for word in clean_list]\n",
    "    clean_list=[item for item in clean_list if len(item)>0 and item!=\"2\"]\n",
    "    return clean_list\n",
    "\n",
    "def clean_text_details(list_of_words):\n",
    "    clean_list=clean_text(list_of_words)\n",
    "    new_list=[]\n",
    "    i=0\n",
    "    while i <=len(clean_list)-1:\n",
    "        if i==len(clean_list)-1:\n",
    "            new_list.append(clean_list[i])\n",
    "            i+=1\n",
    "        elif clean_list[i+1][0]==\"(\" or clean_list[i+1][0]==\",\":\n",
    "            new_list.append(clean_list[i]+\" \"+clean_list[i+1])\n",
    "            i+=2\n",
    "        else:\n",
    "            new_list.append(clean_list[i])\n",
    "            i+=1\n",
    "    return new_list\n",
    "\n",
    "def clean_text_name(list_of_words):\n",
    "    clean_list=clean_text(list_of_words)\n",
    "    #full_name=\", \".join(clean_list)\n",
    "    return clean_list\n",
    "\n",
    "def clean_text_title(list_of_words):\n",
    "    clean_list=clean_text(list_of_words)\n",
    "    full_title=\" \".join(clean_list)\n",
    "    return full_title"
   ]
  },
  {
   "cell_type": "code",
   "execution_count": 7,
   "metadata": {},
   "outputs": [],
   "source": [
    "final=[(item_1,clean_text_details(item_2),clean_text_name(item_3),clean_text_title(item_4),item_5) for item_1,item_2,item_3,item_4,item_5 in first_scrape]"
   ]
  },
  {
   "cell_type": "code",
   "execution_count": 8,
   "metadata": {},
   "outputs": [],
   "source": [
    "def create_dicts(year,cleaned_list,name,title,url):\n",
    "    index_list=[]\n",
    "    for item in [\"Income\",\"Real estate\",\"Transport\",\"Accounts\"]:\n",
    "        try:\n",
    "            index=cleaned_list.index(item)\n",
    "            index_list.append(index)\n",
    "        except:\n",
    "            continue\n",
    "    final_output=[]\n",
    "    index_list.append(len(cleaned_list))\n",
    "    for i in range(len(index_list)-1):\n",
    "        begin=index_list[i]+1\n",
    "        end=index_list[i+1]\n",
    "        span=cleaned_list[begin:end]\n",
    "        for item in span:\n",
    "            return_list={}\n",
    "            return_list['last_name']=name[0]\n",
    "            return_list['first_name']=name[1]\n",
    "            return_list[\"year\"]=year\n",
    "            return_list[\"link\"]=url\n",
    "            return_list[\"position\"]=title\n",
    "            return_list[\"asset_type\"]=cleaned_list[index_list[i]]\n",
    "            return_list[\"asset_value\"]=item\n",
    "            final_output.append(return_list)  \n",
    "    return final_output"
   ]
  },
  {
   "cell_type": "code",
   "execution_count": 9,
   "metadata": {},
   "outputs": [],
   "source": [
    "final_2=[create_dicts(item_1,item_2,item_3,item_4,item_5) for item_1,item_2,item_3,item_4,item_5 in final]"
   ]
  },
  {
   "cell_type": "code",
   "execution_count": 10,
   "metadata": {},
   "outputs": [],
   "source": [
    "final_3=[]\n",
    "for final_element in final_2:\n",
    "    final_3.extend(final_element)"
   ]
  },
  {
   "cell_type": "code",
   "execution_count": 11,
   "metadata": {},
   "outputs": [],
   "source": [
    "import pandas as pd\n",
    "output_df=pd.DataFrame(final_3)"
   ]
  },
  {
   "cell_type": "code",
   "execution_count": 12,
   "metadata": {},
   "outputs": [
    {
     "data": {
      "text/html": [
       "<div>\n",
       "<style scoped>\n",
       "    .dataframe tbody tr th:only-of-type {\n",
       "        vertical-align: middle;\n",
       "    }\n",
       "\n",
       "    .dataframe tbody tr th {\n",
       "        vertical-align: top;\n",
       "    }\n",
       "\n",
       "    .dataframe thead th {\n",
       "        text-align: right;\n",
       "    }\n",
       "</style>\n",
       "<table border=\"1\" class=\"dataframe\">\n",
       "  <thead>\n",
       "    <tr style=\"text-align: right;\">\n",
       "      <th></th>\n",
       "      <th>last_name</th>\n",
       "      <th>first_name</th>\n",
       "      <th>year</th>\n",
       "      <th>link</th>\n",
       "      <th>position</th>\n",
       "      <th>asset_type</th>\n",
       "      <th>asset_value</th>\n",
       "    </tr>\n",
       "  </thead>\n",
       "  <tbody>\n",
       "    <tr>\n",
       "      <th>0</th>\n",
       "      <td>Putin</td>\n",
       "      <td>Vladimir Vladimirovich</td>\n",
       "      <td>2020</td>\n",
       "      <td>https://declarator.org/person/582/</td>\n",
       "      <td>The President Of The Russian Federation</td>\n",
       "      <td>Income</td>\n",
       "      <td>9 994 692,00 руб.</td>\n",
       "    </tr>\n",
       "    <tr>\n",
       "      <th>1</th>\n",
       "      <td>Putin</td>\n",
       "      <td>Vladimir Vladimirovich</td>\n",
       "      <td>2020</td>\n",
       "      <td>https://declarator.org/person/582/</td>\n",
       "      <td>The President Of The Russian Federation</td>\n",
       "      <td>Real estate</td>\n",
       "      <td>Apartment, 77 sqm</td>\n",
       "    </tr>\n",
       "    <tr>\n",
       "      <th>2</th>\n",
       "      <td>Putin</td>\n",
       "      <td>Vladimir Vladimirovich</td>\n",
       "      <td>2020</td>\n",
       "      <td>https://declarator.org/person/582/</td>\n",
       "      <td>The President Of The Russian Federation</td>\n",
       "      <td>Real estate</td>\n",
       "      <td>Apartment, 153.7 sqm (in use )</td>\n",
       "    </tr>\n",
       "    <tr>\n",
       "      <th>3</th>\n",
       "      <td>Putin</td>\n",
       "      <td>Vladimir Vladimirovich</td>\n",
       "      <td>2020</td>\n",
       "      <td>https://declarator.org/person/582/</td>\n",
       "      <td>The President Of The Russian Federation</td>\n",
       "      <td>Real estate</td>\n",
       "      <td>Garage, 18 sqm</td>\n",
       "    </tr>\n",
       "    <tr>\n",
       "      <th>4</th>\n",
       "      <td>Putin</td>\n",
       "      <td>Vladimir Vladimirovich</td>\n",
       "      <td>2020</td>\n",
       "      <td>https://declarator.org/person/582/</td>\n",
       "      <td>The President Of The Russian Federation</td>\n",
       "      <td>Real estate</td>\n",
       "      <td>Гаражное место, 18 sqm (in use )</td>\n",
       "    </tr>\n",
       "    <tr>\n",
       "      <th>...</th>\n",
       "      <td>...</td>\n",
       "      <td>...</td>\n",
       "      <td>...</td>\n",
       "      <td>...</td>\n",
       "      <td>...</td>\n",
       "      <td>...</td>\n",
       "      <td>...</td>\n",
       "    </tr>\n",
       "    <tr>\n",
       "      <th>117</th>\n",
       "      <td>Medvedev</td>\n",
       "      <td>Dmitrii Anatolevich</td>\n",
       "      <td>2008</td>\n",
       "      <td>https://declarator.org/person/542/</td>\n",
       "      <td>The President of the Russian Federation</td>\n",
       "      <td>Real estate</td>\n",
       "      <td>Супруг(а): Garage, Moscow, 16.2 sqm , 1 доли</td>\n",
       "    </tr>\n",
       "    <tr>\n",
       "      <th>118</th>\n",
       "      <td>Medvedev</td>\n",
       "      <td>Dmitrii Anatolevich</td>\n",
       "      <td>2008</td>\n",
       "      <td>https://declarator.org/person/542/</td>\n",
       "      <td>The President of the Russian Federation</td>\n",
       "      <td>Real estate</td>\n",
       "      <td>Супруг(а): Garage, Moscow, 16.3 sqm , 1 доли</td>\n",
       "    </tr>\n",
       "    <tr>\n",
       "      <th>119</th>\n",
       "      <td>Medvedev</td>\n",
       "      <td>Dmitrii Anatolevich</td>\n",
       "      <td>2008</td>\n",
       "      <td>https://declarator.org/person/542/</td>\n",
       "      <td>The President of the Russian Federation</td>\n",
       "      <td>Transport</td>\n",
       "      <td>Супруг(а): Passenger car, Volkswagen Golf  199...</td>\n",
       "    </tr>\n",
       "    <tr>\n",
       "      <th>120</th>\n",
       "      <td>Medvedev</td>\n",
       "      <td>Dmitrii Anatolevich</td>\n",
       "      <td>2008</td>\n",
       "      <td>https://declarator.org/person/542/</td>\n",
       "      <td>The President of the Russian Federation</td>\n",
       "      <td>Accounts</td>\n",
       "      <td>135 144,05 руб. (1 счет)</td>\n",
       "    </tr>\n",
       "    <tr>\n",
       "      <th>121</th>\n",
       "      <td>Medvedev</td>\n",
       "      <td>Dmitrii Anatolevich</td>\n",
       "      <td>2008</td>\n",
       "      <td>https://declarator.org/person/542/</td>\n",
       "      <td>The President of the Russian Federation</td>\n",
       "      <td>Accounts</td>\n",
       "      <td>2 818 780,8 руб. (9 счетов)</td>\n",
       "    </tr>\n",
       "  </tbody>\n",
       "</table>\n",
       "<p>122 rows × 7 columns</p>\n",
       "</div>"
      ],
      "text/plain": [
       "    last_name              first_name  year  \\\n",
       "0       Putin  Vladimir Vladimirovich  2020   \n",
       "1       Putin  Vladimir Vladimirovich  2020   \n",
       "2       Putin  Vladimir Vladimirovich  2020   \n",
       "3       Putin  Vladimir Vladimirovich  2020   \n",
       "4       Putin  Vladimir Vladimirovich  2020   \n",
       "..        ...                     ...   ...   \n",
       "117  Medvedev     Dmitrii Anatolevich  2008   \n",
       "118  Medvedev     Dmitrii Anatolevich  2008   \n",
       "119  Medvedev     Dmitrii Anatolevich  2008   \n",
       "120  Medvedev     Dmitrii Anatolevich  2008   \n",
       "121  Medvedev     Dmitrii Anatolevich  2008   \n",
       "\n",
       "                                   link  \\\n",
       "0    https://declarator.org/person/582/   \n",
       "1    https://declarator.org/person/582/   \n",
       "2    https://declarator.org/person/582/   \n",
       "3    https://declarator.org/person/582/   \n",
       "4    https://declarator.org/person/582/   \n",
       "..                                  ...   \n",
       "117  https://declarator.org/person/542/   \n",
       "118  https://declarator.org/person/542/   \n",
       "119  https://declarator.org/person/542/   \n",
       "120  https://declarator.org/person/542/   \n",
       "121  https://declarator.org/person/542/   \n",
       "\n",
       "                                    position   asset_type  \\\n",
       "0    The President Of The Russian Federation       Income   \n",
       "1    The President Of The Russian Federation  Real estate   \n",
       "2    The President Of The Russian Federation  Real estate   \n",
       "3    The President Of The Russian Federation  Real estate   \n",
       "4    The President Of The Russian Federation  Real estate   \n",
       "..                                       ...          ...   \n",
       "117  The President of the Russian Federation  Real estate   \n",
       "118  The President of the Russian Federation  Real estate   \n",
       "119  The President of the Russian Federation    Transport   \n",
       "120  The President of the Russian Federation     Accounts   \n",
       "121  The President of the Russian Federation     Accounts   \n",
       "\n",
       "                                           asset_value  \n",
       "0                                    9 994 692,00 руб.  \n",
       "1                                    Apartment, 77 sqm  \n",
       "2                       Apartment, 153.7 sqm (in use )  \n",
       "3                                       Garage, 18 sqm  \n",
       "4                     Гаражное место, 18 sqm (in use )  \n",
       "..                                                 ...  \n",
       "117       Супруг(а): Garage, Moscow, 16.2 sqm , 1 доли  \n",
       "118       Супруг(а): Garage, Moscow, 16.3 sqm , 1 доли  \n",
       "119  Супруг(а): Passenger car, Volkswagen Golf  199...  \n",
       "120                           135 144,05 руб. (1 счет)  \n",
       "121                        2 818 780,8 руб. (9 счетов)  \n",
       "\n",
       "[122 rows x 7 columns]"
      ]
     },
     "execution_count": 12,
     "metadata": {},
     "output_type": "execute_result"
    }
   ],
   "source": [
    "output_df"
   ]
  },
  {
   "cell_type": "markdown",
   "metadata": {},
   "source": [
    "The code below is to extract foreign name"
   ]
  },
  {
   "cell_type": "code",
   "execution_count": 13,
   "metadata": {},
   "outputs": [],
   "source": [
    "def find_russian_name(x):\n",
    "    root_person=\"http://declarator.org/person_report/\"\n",
    "    id_person=re.findall(r\"[0-9]+\",x)[0]\n",
    "    full_id_url=root_person+id_person+\"/\"\n",
    "    df_name=pd.read_excel(full_id_url)\n",
    "    return df_name['ФИО'].unique()[0]"
   ]
  },
  {
   "cell_type": "code",
   "execution_count": 14,
   "metadata": {},
   "outputs": [],
   "source": [
    "list_of_russian_names=[find_russian_name(link) for link in output_df.link.unique()]"
   ]
  },
  {
   "cell_type": "code",
   "execution_count": 15,
   "metadata": {},
   "outputs": [],
   "source": [
    "df_russian_name=pd.DataFrame({\"id\":output_df.link.unique(),\"russian_name\":list_of_russian_names})"
   ]
  },
  {
   "cell_type": "code",
   "execution_count": 16,
   "metadata": {},
   "outputs": [],
   "source": [
    "output_df_2=output_df.merge(df_russian_name,how=\"left\",right_on=\"id\",left_on=\"link\").drop(['id'],axis=1)"
   ]
  },
  {
   "cell_type": "code",
   "execution_count": 32,
   "metadata": {},
   "outputs": [],
   "source": [
    "output_df_2.to_excel(\"Russia_president_anti_corruption.xlsx\",index=False)"
   ]
  },
  {
   "cell_type": "code",
   "execution_count": 17,
   "metadata": {},
   "outputs": [],
   "source": [
    "output_df_2.to_csv(\"Russia_president_anti_corruption.csv\",index=False)"
   ]
  },
  {
   "cell_type": "code",
   "execution_count": null,
   "metadata": {},
   "outputs": [],
   "source": []
  }
 ],
 "metadata": {
  "kernelspec": {
   "display_name": "Python 3",
   "language": "python",
   "name": "python3"
  },
  "language_info": {
   "codemirror_mode": {
    "name": "ipython",
    "version": 3
   },
   "file_extension": ".py",
   "mimetype": "text/x-python",
   "name": "python",
   "nbconvert_exporter": "python",
   "pygments_lexer": "ipython3",
   "version": "3.7.6"
  }
 },
 "nbformat": 4,
 "nbformat_minor": 4
}
