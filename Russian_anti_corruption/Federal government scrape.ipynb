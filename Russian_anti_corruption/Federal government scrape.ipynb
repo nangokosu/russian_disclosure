{
 "cells": [
  {
   "cell_type": "code",
   "execution_count": 1,
   "metadata": {},
   "outputs": [],
   "source": [
    "import requests\n",
    "import lxml.html"
   ]
  },
  {
   "cell_type": "code",
   "execution_count": 2,
   "metadata": {},
   "outputs": [],
   "source": [
    "url=\"https://declarator.org/office/453\"\n",
    "root=\"https://declarator.org\""
   ]
  },
  {
   "cell_type": "code",
   "execution_count": 3,
   "metadata": {},
   "outputs": [],
   "source": [
    "# This requires the installation of Splash\n",
    "r=requests.get(\"http://localhost:8050/render.html\",params={\"url\":url})"
   ]
  },
  {
   "cell_type": "code",
   "execution_count": 4,
   "metadata": {},
   "outputs": [],
   "source": [
    "html=lxml.html.fromstring(r.content)"
   ]
  },
  {
   "cell_type": "code",
   "execution_count": 5,
   "metadata": {},
   "outputs": [],
   "source": [
    "new_dict={}\n",
    "for element in html.xpath('//tr'):\n",
    "    year=element.xpath('./td[position()=1]/text()')[0]\n",
    "    element_2=element.xpath('./td[position()=2]//ul[@class=\"list-inline activetext\"]/li/a')[0]\n",
    "    if element_2.xpath('./text()')[0].strip()==\"Anti-corruption declaration\":\n",
    "        anti_corrupt_url=root+element_2.xpath(\"./@href\")[0]\n",
    "        r2=requests.get(\"http://localhost:8050/render.html\",params={'url':anti_corrupt_url})\n",
    "        html2=lxml.html.fromstring(r2.content)\n",
    "        #Get people\n",
    "        person=html2.xpath('//tr[@class=\"section_summary \" or @class=\"section_summary even  \"]/td[@class=\"person\"]')\n",
    "        #Get details\n",
    "        element_final=html2.xpath('//tr[@class=\"section_detailed\" or @class=\"section_detailed even \"]/td[@colspan=\"3\" or @colspan=\"4\"]')\n",
    "        assert len(element_final)==len(person)\n",
    "        url_list=[]\n",
    "        for element_person in person:\n",
    "            url_person=element_person.xpath('./div[@class=\"person_name activetext\"]/a/@href')\n",
    "            url_list.append(root+url_person[0])\n",
    "        new_dict[year]=list(zip(person,element_final,url_list))"
   ]
  },
  {
   "cell_type": "code",
   "execution_count": 6,
   "metadata": {},
   "outputs": [],
   "source": [
    "def extract_name_element(selector_element):\n",
    "    title=selector_element.xpath('./div[2]/i/text()')[0]\n",
    "    family_name=selector_element.xpath('./div[1]/a/div[@class=\"family_name\"]/h4/text()')[0]\n",
    "    name=selector_element.xpath('./div[1]/a/h4/text()')[0]\n",
    "    return [(\"family_name\",family_name),(\"name\",name),(\"title\",title)]"
   ]
  },
  {
   "cell_type": "code",
   "execution_count": 7,
   "metadata": {},
   "outputs": [],
   "source": [
    "def extract_asset_details(selector_element):\n",
    "    return selector_element.xpath('.//text()')"
   ]
  },
  {
   "cell_type": "code",
   "execution_count": 8,
   "metadata": {},
   "outputs": [],
   "source": [
    "import re\n",
    "\n",
    "def clean_text(list_of_words):\n",
    "    clean_list=[re.sub(r\"\\n\",\"\",word).strip() for word in list_of_words]\n",
    "    clean_list=[re.sub(r\" m\",\" sqm\",word).strip() for word in clean_list]\n",
    "    clean_list=[item for item in clean_list if len(item)>0 and item!=\"2\"]\n",
    "    return clean_list\n",
    "\n",
    "def clean_text_details(list_of_words):\n",
    "    clean_list=clean_text(list_of_words)\n",
    "    new_list=[]\n",
    "    i=0\n",
    "    while i <=len(clean_list)-1:\n",
    "        if i==len(clean_list)-1:\n",
    "            new_list.append(clean_list[i])\n",
    "            i+=1\n",
    "        elif clean_list[i+1][0]==\"(\" or clean_list[i+1][0]==\",\":\n",
    "            new_list.append(clean_list[i]+\" \"+clean_list[i+1])\n",
    "            i+=2\n",
    "        else:\n",
    "            new_list.append(clean_list[i])\n",
    "            i+=1\n",
    "    return new_list\n",
    "\n",
    "def clean_text_name(list_of_words):\n",
    "    clean_list=clean_text(list_of_words)\n",
    "    #full_name=\", \".join(clean_list)\n",
    "    return clean_list\n",
    "\n",
    "def clean_text_title(list_of_words):\n",
    "    clean_list=clean_text(list_of_words)\n",
    "    full_title=\" \".join(clean_list)\n",
    "    return full_title"
   ]
  },
  {
   "cell_type": "code",
   "execution_count": 9,
   "metadata": {},
   "outputs": [],
   "source": [
    "new_dict_2={}\n",
    "for key in new_dict.keys():\n",
    "    new_dict_2[key]=[extract_name_element(item_1)+[(\"url\",item_3)]+[clean_text_details(extract_asset_details(item_2))] for item_1,item_2,item_3 in new_dict[key]]"
   ]
  },
  {
   "cell_type": "code",
   "execution_count": 10,
   "metadata": {},
   "outputs": [],
   "source": [
    "def create_dicts(year,family_name,name,title,url,cleaned_list):\n",
    "    index_list=[]\n",
    "    for item in [\"Income\",\"Real estate\",\"Transport\",\"Accounts\"]:\n",
    "        try:\n",
    "            index=cleaned_list.index(item)\n",
    "            index_list.append(index)\n",
    "        except:\n",
    "            continue\n",
    "    final_output=[]\n",
    "    index_list.append(len(cleaned_list))\n",
    "    for i in range(len(index_list)-1):\n",
    "        begin=index_list[i]+1\n",
    "        end=index_list[i+1]\n",
    "        span=cleaned_list[begin:end]\n",
    "        for item in span:\n",
    "            return_list={}\n",
    "            return_list['last_name']=family_name[1]\n",
    "            return_list['first_name']=name[1]\n",
    "            return_list[\"year\"]=year\n",
    "            return_list[\"link\"]=url[1]\n",
    "            return_list[\"position\"]=title[1]\n",
    "            return_list[\"asset_type\"]=cleaned_list[index_list[i]]\n",
    "            return_list[\"asset_value\"]=item\n",
    "            final_output.append(return_list)  \n",
    "    return final_output"
   ]
  },
  {
   "cell_type": "code",
   "execution_count": 11,
   "metadata": {},
   "outputs": [],
   "source": [
    "final_dicts=[]"
   ]
  },
  {
   "cell_type": "code",
   "execution_count": 12,
   "metadata": {},
   "outputs": [],
   "source": [
    "for key in new_dict_2.keys():\n",
    "    for entry in new_dict_2[key]:\n",
    "        entry_dict=create_dicts(key,entry[0],entry[1],entry[2],entry[3],entry[4])\n",
    "        final_dicts.extend(entry_dict)\n",
    "        #print(entry_dict)"
   ]
  },
  {
   "cell_type": "code",
   "execution_count": 13,
   "metadata": {},
   "outputs": [],
   "source": [
    "import pandas as pd\n",
    "output_df=pd.DataFrame(final_dicts)"
   ]
  },
  {
   "cell_type": "markdown",
   "metadata": {},
   "source": [
    "This code is to extract the Russian names"
   ]
  },
  {
   "cell_type": "code",
   "execution_count": 18,
   "metadata": {},
   "outputs": [],
   "source": [
    "def find_russian_name(x):\n",
    "    root_person=\"http://declarator.org/person_report/\"\n",
    "    id_person=re.findall(r\"[0-9]+\",x)[0]\n",
    "    full_id_url=root_person+id_person+\"/\"\n",
    "    df_name=pd.read_excel(full_id_url)\n",
    "    return df_name['ФИО'].unique()[0]"
   ]
  },
  {
   "cell_type": "code",
   "execution_count": 19,
   "metadata": {},
   "outputs": [],
   "source": [
    "list_of_russian_names=[find_russian_name(link) for link in output_df.link.unique()]"
   ]
  },
  {
   "cell_type": "code",
   "execution_count": 20,
   "metadata": {},
   "outputs": [],
   "source": [
    "df_russian_name=pd.DataFrame({\"id\":output_df.link.unique(),\"russian_name\":list_of_russian_names})"
   ]
  },
  {
   "cell_type": "code",
   "execution_count": 21,
   "metadata": {},
   "outputs": [],
   "source": [
    "output_df_2=output_df.merge(df_russian_name,how=\"left\",right_on=\"id\",left_on=\"link\").drop(['id'],axis=1)"
   ]
  },
  {
   "cell_type": "code",
   "execution_count": 31,
   "metadata": {},
   "outputs": [
    {
     "data": {
      "text/html": [
       "<div>\n",
       "<style scoped>\n",
       "    .dataframe tbody tr th:only-of-type {\n",
       "        vertical-align: middle;\n",
       "    }\n",
       "\n",
       "    .dataframe tbody tr th {\n",
       "        vertical-align: top;\n",
       "    }\n",
       "\n",
       "    .dataframe thead th {\n",
       "        text-align: right;\n",
       "    }\n",
       "</style>\n",
       "<table border=\"1\" class=\"dataframe\">\n",
       "  <thead>\n",
       "    <tr style=\"text-align: right;\">\n",
       "      <th></th>\n",
       "      <th>last_name</th>\n",
       "      <th>first_name</th>\n",
       "      <th>year</th>\n",
       "      <th>link</th>\n",
       "      <th>position</th>\n",
       "      <th>asset_type</th>\n",
       "      <th>asset_value</th>\n",
       "      <th>russian_name</th>\n",
       "    </tr>\n",
       "  </thead>\n",
       "  <tbody>\n",
       "    <tr>\n",
       "      <th>0</th>\n",
       "      <td>Abramchenko</td>\n",
       "      <td>Viktoriia Valerievna</td>\n",
       "      <td>2020</td>\n",
       "      <td>https://declarator.org/person/22071/</td>\n",
       "      <td>Заместитель председателя правительства РФ</td>\n",
       "      <td>Income</td>\n",
       "      <td>18 718 910,85 руб.</td>\n",
       "      <td>Абрамченко Виктория Валериевна</td>\n",
       "    </tr>\n",
       "    <tr>\n",
       "      <th>1</th>\n",
       "      <td>Abramchenko</td>\n",
       "      <td>Viktoriia Valerievna</td>\n",
       "      <td>2020</td>\n",
       "      <td>https://declarator.org/person/22071/</td>\n",
       "      <td>Заместитель председателя правительства РФ</td>\n",
       "      <td>Income</td>\n",
       "      <td>Супруг(а): 3 587 691,40 руб.</td>\n",
       "      <td>Абрамченко Виктория Валериевна</td>\n",
       "    </tr>\n",
       "    <tr>\n",
       "      <th>2</th>\n",
       "      <td>Abramchenko</td>\n",
       "      <td>Viktoriia Valerievna</td>\n",
       "      <td>2020</td>\n",
       "      <td>https://declarator.org/person/22071/</td>\n",
       "      <td>Заместитель председателя правительства РФ</td>\n",
       "      <td>Real estate</td>\n",
       "      <td>Land plot, 1400 sqm</td>\n",
       "      <td>Абрамченко Виктория Валериевна</td>\n",
       "    </tr>\n",
       "    <tr>\n",
       "      <th>3</th>\n",
       "      <td>Abramchenko</td>\n",
       "      <td>Viktoriia Valerievna</td>\n",
       "      <td>2020</td>\n",
       "      <td>https://declarator.org/person/22071/</td>\n",
       "      <td>Заместитель председателя правительства РФ</td>\n",
       "      <td>Real estate</td>\n",
       "      <td>Residential house, 359 sqm</td>\n",
       "      <td>Абрамченко Виктория Валериевна</td>\n",
       "    </tr>\n",
       "    <tr>\n",
       "      <th>4</th>\n",
       "      <td>Abramchenko</td>\n",
       "      <td>Viktoriia Valerievna</td>\n",
       "      <td>2020</td>\n",
       "      <td>https://declarator.org/person/22071/</td>\n",
       "      <td>Заместитель председателя правительства РФ</td>\n",
       "      <td>Real estate</td>\n",
       "      <td>Apartment, 85.2 sqm</td>\n",
       "      <td>Абрамченко Виктория Валериевна</td>\n",
       "    </tr>\n",
       "    <tr>\n",
       "      <th>...</th>\n",
       "      <td>...</td>\n",
       "      <td>...</td>\n",
       "      <td>...</td>\n",
       "      <td>...</td>\n",
       "      <td>...</td>\n",
       "      <td>...</td>\n",
       "      <td>...</td>\n",
       "      <td>...</td>\n",
       "    </tr>\n",
       "    <tr>\n",
       "      <th>6504</th>\n",
       "      <td>Shchegolev</td>\n",
       "      <td>Igor Olegovich</td>\n",
       "      <td>2008</td>\n",
       "      <td>https://declarator.org/person/1382/</td>\n",
       "      <td>Minister of communications and mass communicat...</td>\n",
       "      <td>Income</td>\n",
       "      <td>4 714 800,00 руб.</td>\n",
       "      <td>Щеголев Игорь Олегович</td>\n",
       "    </tr>\n",
       "    <tr>\n",
       "      <th>6505</th>\n",
       "      <td>Shchegolev</td>\n",
       "      <td>Igor Olegovich</td>\n",
       "      <td>2008</td>\n",
       "      <td>https://declarator.org/person/1382/</td>\n",
       "      <td>Minister of communications and mass communicat...</td>\n",
       "      <td>Income</td>\n",
       "      <td>Супруг(а): 310 800,00 руб.</td>\n",
       "      <td>Щеголев Игорь Олегович</td>\n",
       "    </tr>\n",
       "    <tr>\n",
       "      <th>6506</th>\n",
       "      <td>Shchegolev</td>\n",
       "      <td>Igor Olegovich</td>\n",
       "      <td>2008</td>\n",
       "      <td>https://declarator.org/person/1382/</td>\n",
       "      <td>Minister of communications and mass communicat...</td>\n",
       "      <td>Real estate</td>\n",
       "      <td>Apartment, 75.7 sqm (lease )</td>\n",
       "      <td>Щеголев Игорь Олегович</td>\n",
       "    </tr>\n",
       "    <tr>\n",
       "      <th>6507</th>\n",
       "      <td>Shchegolev</td>\n",
       "      <td>Igor Olegovich</td>\n",
       "      <td>2008</td>\n",
       "      <td>https://declarator.org/person/1382/</td>\n",
       "      <td>Minister of communications and mass communicat...</td>\n",
       "      <td>Real estate</td>\n",
       "      <td>Супруг(а): Apartment, 139 sqm</td>\n",
       "      <td>Щеголев Игорь Олегович</td>\n",
       "    </tr>\n",
       "    <tr>\n",
       "      <th>6508</th>\n",
       "      <td>Shchegolev</td>\n",
       "      <td>Igor Olegovich</td>\n",
       "      <td>2008</td>\n",
       "      <td>https://declarator.org/person/1382/</td>\n",
       "      <td>Minister of communications and mass communicat...</td>\n",
       "      <td>Transport</td>\n",
       "      <td>Passenger car, Subaru outback</td>\n",
       "      <td>Щеголев Игорь Олегович</td>\n",
       "    </tr>\n",
       "  </tbody>\n",
       "</table>\n",
       "<p>6509 rows × 8 columns</p>\n",
       "</div>"
      ],
      "text/plain": [
       "        last_name            first_name  year  \\\n",
       "0     Abramchenko  Viktoriia Valerievna  2020   \n",
       "1     Abramchenko  Viktoriia Valerievna  2020   \n",
       "2     Abramchenko  Viktoriia Valerievna  2020   \n",
       "3     Abramchenko  Viktoriia Valerievna  2020   \n",
       "4     Abramchenko  Viktoriia Valerievna  2020   \n",
       "...           ...                   ...   ...   \n",
       "6504   Shchegolev        Igor Olegovich  2008   \n",
       "6505   Shchegolev        Igor Olegovich  2008   \n",
       "6506   Shchegolev        Igor Olegovich  2008   \n",
       "6507   Shchegolev        Igor Olegovich  2008   \n",
       "6508   Shchegolev        Igor Olegovich  2008   \n",
       "\n",
       "                                      link  \\\n",
       "0     https://declarator.org/person/22071/   \n",
       "1     https://declarator.org/person/22071/   \n",
       "2     https://declarator.org/person/22071/   \n",
       "3     https://declarator.org/person/22071/   \n",
       "4     https://declarator.org/person/22071/   \n",
       "...                                    ...   \n",
       "6504   https://declarator.org/person/1382/   \n",
       "6505   https://declarator.org/person/1382/   \n",
       "6506   https://declarator.org/person/1382/   \n",
       "6507   https://declarator.org/person/1382/   \n",
       "6508   https://declarator.org/person/1382/   \n",
       "\n",
       "                                               position   asset_type  \\\n",
       "0             Заместитель председателя правительства РФ       Income   \n",
       "1             Заместитель председателя правительства РФ       Income   \n",
       "2             Заместитель председателя правительства РФ  Real estate   \n",
       "3             Заместитель председателя правительства РФ  Real estate   \n",
       "4             Заместитель председателя правительства РФ  Real estate   \n",
       "...                                                 ...          ...   \n",
       "6504  Minister of communications and mass communicat...       Income   \n",
       "6505  Minister of communications and mass communicat...       Income   \n",
       "6506  Minister of communications and mass communicat...  Real estate   \n",
       "6507  Minister of communications and mass communicat...  Real estate   \n",
       "6508  Minister of communications and mass communicat...    Transport   \n",
       "\n",
       "                        asset_value                    russian_name  \n",
       "0                18 718 910,85 руб.  Абрамченко Виктория Валериевна  \n",
       "1      Супруг(а): 3 587 691,40 руб.  Абрамченко Виктория Валериевна  \n",
       "2               Land plot, 1400 sqm  Абрамченко Виктория Валериевна  \n",
       "3        Residential house, 359 sqm  Абрамченко Виктория Валериевна  \n",
       "4               Apartment, 85.2 sqm  Абрамченко Виктория Валериевна  \n",
       "...                             ...                             ...  \n",
       "6504              4 714 800,00 руб.          Щеголев Игорь Олегович  \n",
       "6505     Супруг(а): 310 800,00 руб.          Щеголев Игорь Олегович  \n",
       "6506   Apartment, 75.7 sqm (lease )          Щеголев Игорь Олегович  \n",
       "6507  Супруг(а): Apartment, 139 sqm          Щеголев Игорь Олегович  \n",
       "6508  Passenger car, Subaru outback          Щеголев Игорь Олегович  \n",
       "\n",
       "[6509 rows x 8 columns]"
      ]
     },
     "execution_count": 31,
     "metadata": {},
     "output_type": "execute_result"
    }
   ],
   "source": [
    "output_df_2"
   ]
  },
  {
   "cell_type": "code",
   "execution_count": 32,
   "metadata": {},
   "outputs": [],
   "source": [
    "output_df_2.to_excel(\"Russia_federal_government_anti_corruption.xlsx\",index=False)"
   ]
  },
  {
   "cell_type": "code",
   "execution_count": 33,
   "metadata": {},
   "outputs": [],
   "source": [
    "output_df_2.to_csv(\"Russia_federal_government_anti_corruption.csv\",index=False)"
   ]
  },
  {
   "cell_type": "code",
   "execution_count": 30,
   "metadata": {},
   "outputs": [
    {
     "data": {
      "text/plain": [
       "32"
      ]
     },
     "execution_count": 30,
     "metadata": {},
     "output_type": "execute_result"
    }
   ],
   "source": []
  },
  {
   "cell_type": "code",
   "execution_count": null,
   "metadata": {},
   "outputs": [],
   "source": []
  }
 ],
 "metadata": {
  "kernelspec": {
   "display_name": "Python 3",
   "language": "python",
   "name": "python3"
  },
  "language_info": {
   "codemirror_mode": {
    "name": "ipython",
    "version": 3
   },
   "file_extension": ".py",
   "mimetype": "text/x-python",
   "name": "python",
   "nbconvert_exporter": "python",
   "pygments_lexer": "ipython3",
   "version": "3.7.6"
  }
 },
 "nbformat": 4,
 "nbformat_minor": 4
}
