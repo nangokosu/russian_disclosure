{
 "cells": [
  {
   "cell_type": "code",
   "execution_count": 1,
   "metadata": {},
   "outputs": [],
   "source": [
    "from selenium import webdriver"
   ]
  },
  {
   "cell_type": "code",
   "execution_count": null,
   "metadata": {},
   "outputs": [],
   "source": [
    "# If you want to use a proxy\n",
    "from http_request_randomizer.requests.proxy.requestProxy import RequestProxy\n",
    "req_proxy = RequestProxy() #you may get different number of proxy when  you run this at each time\n",
    "proxies = req_proxy.get_proxy_list() \n",
    "PROXY = proxies[0].get_address() # there are different proxies to choose from\n",
    "webdriver.DesiredCapabilities.CHROME['proxy']={\n",
    "    \"httpProxy\":PROXY,\n",
    "    \"ftpProxy\":PROXY,\n",
    "    \"sslProxy\":PROXY,\n",
    "    \n",
    "    \"proxyType\":\"MANUAL\",\n",
    "    \n",
    "}"
   ]
  },
  {
   "cell_type": "code",
   "execution_count": 5,
   "metadata": {},
   "outputs": [],
   "source": [
    "driver=webdriver.Chrome(executable_path=\"C:/Users/nango/selenium/chromedriver\")"
   ]
  },
  {
   "cell_type": "code",
   "execution_count": 6,
   "metadata": {},
   "outputs": [],
   "source": [
    "from lxml import html"
   ]
  },
  {
   "cell_type": "code",
   "execution_count": 7,
   "metadata": {},
   "outputs": [],
   "source": [
    "import time\n",
    "def find_page(link):\n",
    "    listings=[]\n",
    "    elements=link.xpath('//div[@class=\"iva-item-content-m2FiN\"]/div[@class=\"iva-item-body-NPl6W\"]')\n",
    "    for element in elements:\n",
    "        prop_name=element.xpath('./div[@class=\"iva-item-titleStep-2bjuh\"]/a/@title')[0]\n",
    "        price=element.xpath('./div[@class=\"iva-item-priceStep-2qRpg\"]/span/span/meta[@itemprop=\"price\"]/@content')[0]\n",
    "        region=element.xpath('./div[@class=\"iva-item-developmentNameStep-1hr7p\"]/div/span/span/text()')\n",
    "        if len(region)>0:\n",
    "            region=region[0]\n",
    "        else:\n",
    "            region=None\n",
    "        listings.append({\"prop_name\":prop_name,\"price\":price,\"region\":region})\n",
    "    return listings"
   ]
  },
  {
   "cell_type": "code",
   "execution_count": 8,
   "metadata": {},
   "outputs": [],
   "source": [
    "all_listings=[]\n",
    "for i in range(1,100+1):\n",
    "    driver.get(f\"https://www.avito.ru/rossiya/kvartiry/prodam-ASgBAgICAUSSA8YQ?cd=1&p={i}\")\n",
    "    time.sleep(10)\n",
    "    html_page=driver.page_source\n",
    "    tree=html.fromstring(html_page)\n",
    "    listings=find_page(tree)\n",
    "    if len(listings)>0:\n",
    "        all_listings.extend(listings)\n",
    "        time.sleep(10)\n",
    "    else:\n",
    "        print(i)\n",
    "        break"
   ]
  },
  {
   "cell_type": "code",
   "execution_count": 1,
   "metadata": {},
   "outputs": [],
   "source": [
    "import pandas as pd"
   ]
  },
  {
   "cell_type": "code",
   "execution_count": 9,
   "metadata": {},
   "outputs": [],
   "source": [
    "df_apartments=pd.DataFrame(all_listings)\n",
    "df_apartments.to_csv('all_apartments.csv',index=False,encoding='utf-8-sig')"
   ]
  },
  {
   "cell_type": "code",
   "execution_count": 11,
   "metadata": {},
   "outputs": [],
   "source": [
    "driver.close()"
   ]
  },
  {
   "cell_type": "code",
   "execution_count": 2,
   "metadata": {},
   "outputs": [],
   "source": [
    "df=pd.read_csv(\"all_apartments.csv\")"
   ]
  },
  {
   "cell_type": "code",
   "execution_count": 10,
   "metadata": {},
   "outputs": [],
   "source": [
    "import re\n",
    "df[\"area_sqm\"]=df.prop_name.apply(lambda x: float(re.findall(r\",\\s(\\d.*)\\sм²\",x)[0].replace(\",\",\".\")))"
   ]
  },
  {
   "cell_type": "code",
   "execution_count": 11,
   "metadata": {},
   "outputs": [],
   "source": [
    "df[\"price\"]=df.price.apply(lambda x: int(x))"
   ]
  },
  {
   "cell_type": "code",
   "execution_count": 13,
   "metadata": {},
   "outputs": [],
   "source": [
    "new_df=df[['area_sqm','price','region']]"
   ]
  },
  {
   "cell_type": "code",
   "execution_count": 14,
   "metadata": {},
   "outputs": [],
   "source": [
    "new_df.to_csv(\"all_apartments_final.csv\",index=False,encoding='utf-8-sig')"
   ]
  },
  {
   "cell_type": "code",
   "execution_count": null,
   "metadata": {},
   "outputs": [],
   "source": []
  }
 ],
 "metadata": {
  "kernelspec": {
   "display_name": "Python 3",
   "language": "python",
   "name": "python3"
  },
  "language_info": {
   "codemirror_mode": {
    "name": "ipython",
    "version": 3
   },
   "file_extension": ".py",
   "mimetype": "text/x-python",
   "name": "python",
   "nbconvert_exporter": "python",
   "pygments_lexer": "ipython3",
   "version": "3.7.10"
  }
 },
 "nbformat": 4,
 "nbformat_minor": 4
}
