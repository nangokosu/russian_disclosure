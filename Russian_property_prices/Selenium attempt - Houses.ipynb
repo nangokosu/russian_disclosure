{
 "cells": [
  {
   "cell_type": "code",
   "execution_count": 6,
   "metadata": {},
   "outputs": [],
   "source": [
    "from selenium import webdriver"
   ]
  },
  {
   "cell_type": "code",
   "execution_count": 7,
   "metadata": {},
   "outputs": [],
   "source": [
    "driver=webdriver.Chrome(executable_path=\"C:/Users/nango/selenium/chromedriver\")"
   ]
  },
  {
   "cell_type": "code",
   "execution_count": 8,
   "metadata": {},
   "outputs": [],
   "source": [
    "from lxml import html"
   ]
  },
  {
   "cell_type": "code",
   "execution_count": 9,
   "metadata": {},
   "outputs": [],
   "source": [
    "import time\n",
    "def find_page(link):\n",
    "    listings=[]\n",
    "    elements=link.xpath('//div[@class=\"iva-item-content-m2FiN\"]/div[@class=\"iva-item-body-NPl6W\"]')\n",
    "    for element in elements:\n",
    "        prop_name=element.xpath('./div[@class=\"iva-item-titleStep-2bjuh\"]/a/@title')[0]\n",
    "        price=element.xpath('./div[@class=\"iva-item-priceStep-2qRpg\"]/span/span/meta[@itemprop=\"price\"]/@content')[0]\n",
    "        region=element.xpath('./div[@class=\"iva-item-developmentNameStep-1hr7p\"]/div/span/span/text()')\n",
    "        if len(region)>0:\n",
    "            region=region[0]\n",
    "        else:\n",
    "            region=None\n",
    "        listings.append({\"prop_name\":prop_name,\"price\":price,\"region\":region})\n",
    "    return listings"
   ]
  },
  {
   "cell_type": "code",
   "execution_count": 10,
   "metadata": {},
   "outputs": [
    {
     "name": "stdout",
     "output_type": "stream",
     "text": [
      "84\n"
     ]
    }
   ],
   "source": [
    "all_listings=[]\n",
    "for i in range(1,100+1):\n",
    "    driver.get(f\"https://www.avito.ru/rossiya/doma_dachi_kottedzhi?cd=1&p={i}\")\n",
    "    time.sleep(10)\n",
    "    html_page=driver.page_source\n",
    "    tree=html.fromstring(html_page)\n",
    "    listings=find_page(tree)\n",
    "    if len(listings)>0:\n",
    "        all_listings.extend(listings)\n",
    "        time.sleep(10)\n",
    "    else:\n",
    "        print(i)\n",
    "        break"
   ]
  },
  {
   "cell_type": "code",
   "execution_count": 11,
   "metadata": {},
   "outputs": [],
   "source": [
    "# Second round to overcome 504 Gateway Error\n",
    "for i in range(84,100+1):\n",
    "    driver.get(f\"https://www.avito.ru/rossiya/doma_dachi_kottedzhi?cd=1&p={i}\")\n",
    "    time.sleep(10)\n",
    "    html_page=driver.page_source\n",
    "    tree=html.fromstring(html_page)\n",
    "    listings=find_page(tree)\n",
    "    if len(listings)>0:\n",
    "        all_listings.extend(listings)\n",
    "        time.sleep(10)\n",
    "    else:\n",
    "        print(i)\n",
    "        break"
   ]
  },
  {
   "cell_type": "code",
   "execution_count": 1,
   "metadata": {},
   "outputs": [],
   "source": [
    "import pandas as pd"
   ]
  },
  {
   "cell_type": "code",
   "execution_count": 13,
   "metadata": {},
   "outputs": [],
   "source": [
    "df_apartments=pd.DataFrame(all_listings)\n",
    "df_apartments.to_csv('all_houses.csv',index=False,encoding='utf-8-sig')"
   ]
  },
  {
   "cell_type": "code",
   "execution_count": 15,
   "metadata": {},
   "outputs": [],
   "source": [
    "driver.close()"
   ]
  },
  {
   "cell_type": "code",
   "execution_count": 2,
   "metadata": {},
   "outputs": [],
   "source": [
    "df=pd.read_csv(\"all_houses.csv\")"
   ]
  },
  {
   "cell_type": "code",
   "execution_count": 20,
   "metadata": {},
   "outputs": [],
   "source": [
    "import re\n",
    "df['house_area']=df.prop_name.apply(lambda x: re.findall(r\"\\s(\\d.*)\\sм²\",x))"
   ]
  },
  {
   "cell_type": "code",
   "execution_count": 21,
   "metadata": {},
   "outputs": [],
   "source": [
    "df['house_area_sqm']=df.house_area.apply(lambda x: float(x[0].replace(\",\",\".\")) if len(x)>0 else None)"
   ]
  },
  {
   "cell_type": "code",
   "execution_count": 39,
   "metadata": {},
   "outputs": [],
   "source": [
    "df['plot_area_cot']=df.prop_name.apply(lambda x: re.findall(r'([0-9,]*?)\\sсот.',x))"
   ]
  },
  {
   "cell_type": "code",
   "execution_count": 40,
   "metadata": {},
   "outputs": [],
   "source": [
    "df['plot_area_cot']=df.plot_area_cot.apply(lambda x: float(x[0].replace(\",\",\".\")) if len(x)>0 else None)"
   ]
  },
  {
   "cell_type": "code",
   "execution_count": 46,
   "metadata": {},
   "outputs": [],
   "source": [
    "def quick_convert(x):\n",
    "    try:\n",
    "        return int(x)\n",
    "    except:\n",
    "        return None"
   ]
  },
  {
   "cell_type": "code",
   "execution_count": 47,
   "metadata": {},
   "outputs": [],
   "source": [
    "df[\"price\"]=df.price.apply(lambda x: quick_convert(x))"
   ]
  },
  {
   "cell_type": "code",
   "execution_count": 49,
   "metadata": {},
   "outputs": [],
   "source": [
    "new_df=df[['region','price','house_area_sqm','plot_area_cot']]"
   ]
  },
  {
   "cell_type": "code",
   "execution_count": 50,
   "metadata": {},
   "outputs": [],
   "source": [
    "new_df.to_csv(\"all_houses_final.csv\",index=False,encoding='utf-8-sig')"
   ]
  },
  {
   "cell_type": "code",
   "execution_count": null,
   "metadata": {},
   "outputs": [],
   "source": []
  }
 ],
 "metadata": {
  "kernelspec": {
   "display_name": "Python 3",
   "language": "python",
   "name": "python3"
  },
  "language_info": {
   "codemirror_mode": {
    "name": "ipython",
    "version": 3
   },
   "file_extension": ".py",
   "mimetype": "text/x-python",
   "name": "python",
   "nbconvert_exporter": "python",
   "pygments_lexer": "ipython3",
   "version": "3.7.10"
  }
 },
 "nbformat": 4,
 "nbformat_minor": 4
}
