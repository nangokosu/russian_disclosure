{
 "cells": [
  {
   "cell_type": "markdown",
   "metadata": {},
   "source": [
    "This is for running the scrapy spider within Jupyter itself"
   ]
  },
  {
   "cell_type": "code",
   "execution_count": null,
   "metadata": {},
   "outputs": [],
   "source": [
    "!scrapy runspider Russian_car_1.py -o results.csv -t csv"
   ]
  },
  {
   "cell_type": "code",
   "execution_count": 1,
   "metadata": {},
   "outputs": [],
   "source": [
    "import pandas as pd\n",
    "import ftfy"
   ]
  },
  {
   "cell_type": "code",
   "execution_count": 4,
   "metadata": {},
   "outputs": [],
   "source": [
    "def fix_df(link):\n",
    "    df=pd.read_csv('results.csv')\n",
    "    df['brand']=df.brand_model.apply(lambda x: x.split()[0].lower().capitalize())\n",
    "    df['model']=df.brand_model.apply(lambda x: \" \".join(x.split()[1:]))\n",
    "    df[\"price\"]=df.price.apply(lambda x: ftfy.fix_encoding(x))\n",
    "    new_df=df[[\"brand\",\"model\",\"year\",\"price\"]]\n",
    "    #Remove duplicates\n",
    "    new_df['dummy']=new_df.price.apply(lambda x: 1)\n",
    "    clean_df=new_df.groupby([\"brand\",\"model\",\"year\",\"price\"],as_index=False).dummy.count()[[\"brand\",\"model\",\"year\",\"price\"]]\n",
    "    return new_df,clean_df"
   ]
  },
  {
   "cell_type": "code",
   "execution_count": 5,
   "metadata": {},
   "outputs": [],
   "source": [
    "new_df,clean_df=fix_df('results.csv')"
   ]
  },
  {
   "cell_type": "code",
   "execution_count": 6,
   "metadata": {},
   "outputs": [],
   "source": [
    "new_df.to_csv('results_1.csv',index=False,encoding='utf-8-sig')\n",
    "clean_df.to_csv('results_1_unique.csv',index=False,encoding='utf-8-sig')"
   ]
  },
  {
   "cell_type": "code",
   "execution_count": null,
   "metadata": {},
   "outputs": [],
   "source": []
  }
 ],
 "metadata": {
  "kernelspec": {
   "display_name": "Python 3",
   "language": "python",
   "name": "python3"
  },
  "language_info": {
   "codemirror_mode": {
    "name": "ipython",
    "version": 3
   },
   "file_extension": ".py",
   "mimetype": "text/x-python",
   "name": "python",
   "nbconvert_exporter": "python",
   "pygments_lexer": "ipython3",
   "version": "3.7.6"
  }
 },
 "nbformat": 4,
 "nbformat_minor": 4
}
